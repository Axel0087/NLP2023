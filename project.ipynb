{
  "cells": [
    {
      "cell_type": "code",
      "source": [
        "import nltk\n",
        "import string\n",
        "from datasets import load_dataset\n",
        "nltk.download('punkt')"
      ],
      "metadata": {
        "colab": {
          "base_uri": "https://localhost:8080/"
        },
        "id": "WiGjFrHGBEGZ",
        "outputId": "64102118-1ecf-4c20-8c59-3dae5b749952"
      },
      "id": "WiGjFrHGBEGZ",
      "execution_count": null,
      "outputs": [
        {
          "output_type": "stream",
          "name": "stderr",
          "text": [
            "[nltk_data] Downloading package punkt to /root/nltk_data...\n",
            "[nltk_data]   Package punkt is already up-to-date!\n"
          ]
        },
        {
          "output_type": "execute_result",
          "data": {
            "text/plain": [
              "True"
            ]
          },
          "metadata": {},
          "execution_count": 72
        }
      ]
    },
    {
      "cell_type": "markdown",
      "metadata": {
        "id": "view-in-github"
      },
      "source": [
        "<a href=\"https://colab.research.google.com/github/Axel0087/NLP2023/blob/main/project.ipynb\" target=\"_parent\"><img src=\"https://colab.research.google.com/assets/colab-badge.svg\" alt=\"Open In Colab\"/></a>"
      ],
      "id": "view-in-github"
    },
    {
      "cell_type": "code",
      "execution_count": null,
      "id": "242132e4",
      "metadata": {
        "id": "242132e4",
        "outputId": "752170fb-eaaf-4626-8f35-4de566473928",
        "colab": {
          "base_uri": "https://localhost:8080/"
        }
      },
      "outputs": [
        {
          "output_type": "stream",
          "name": "stdout",
          "text": [
            "Requirement already satisfied: datasets in /usr/local/lib/python3.10/dist-packages (2.14.5)\n",
            "Requirement already satisfied: numpy>=1.17 in /usr/local/lib/python3.10/dist-packages (from datasets) (1.23.5)\n",
            "Requirement already satisfied: pyarrow>=8.0.0 in /usr/local/lib/python3.10/dist-packages (from datasets) (9.0.0)\n",
            "Requirement already satisfied: dill<0.3.8,>=0.3.0 in /usr/local/lib/python3.10/dist-packages (from datasets) (0.3.7)\n",
            "Requirement already satisfied: pandas in /usr/local/lib/python3.10/dist-packages (from datasets) (1.5.3)\n",
            "Requirement already satisfied: requests>=2.19.0 in /usr/local/lib/python3.10/dist-packages (from datasets) (2.31.0)\n",
            "Requirement already satisfied: tqdm>=4.62.1 in /usr/local/lib/python3.10/dist-packages (from datasets) (4.66.1)\n",
            "Requirement already satisfied: xxhash in /usr/local/lib/python3.10/dist-packages (from datasets) (3.3.0)\n",
            "Requirement already satisfied: multiprocess in /usr/local/lib/python3.10/dist-packages (from datasets) (0.70.15)\n",
            "Requirement already satisfied: fsspec[http]<2023.9.0,>=2023.1.0 in /usr/local/lib/python3.10/dist-packages (from datasets) (2023.6.0)\n",
            "Requirement already satisfied: aiohttp in /usr/local/lib/python3.10/dist-packages (from datasets) (3.8.5)\n",
            "Requirement already satisfied: huggingface-hub<1.0.0,>=0.14.0 in /usr/local/lib/python3.10/dist-packages (from datasets) (0.17.2)\n",
            "Requirement already satisfied: packaging in /usr/local/lib/python3.10/dist-packages (from datasets) (23.1)\n",
            "Requirement already satisfied: pyyaml>=5.1 in /usr/local/lib/python3.10/dist-packages (from datasets) (6.0.1)\n",
            "Requirement already satisfied: attrs>=17.3.0 in /usr/local/lib/python3.10/dist-packages (from aiohttp->datasets) (23.1.0)\n",
            "Requirement already satisfied: charset-normalizer<4.0,>=2.0 in /usr/local/lib/python3.10/dist-packages (from aiohttp->datasets) (3.2.0)\n",
            "Requirement already satisfied: multidict<7.0,>=4.5 in /usr/local/lib/python3.10/dist-packages (from aiohttp->datasets) (6.0.4)\n",
            "Requirement already satisfied: async-timeout<5.0,>=4.0.0a3 in /usr/local/lib/python3.10/dist-packages (from aiohttp->datasets) (4.0.3)\n",
            "Requirement already satisfied: yarl<2.0,>=1.0 in /usr/local/lib/python3.10/dist-packages (from aiohttp->datasets) (1.9.2)\n",
            "Requirement already satisfied: frozenlist>=1.1.1 in /usr/local/lib/python3.10/dist-packages (from aiohttp->datasets) (1.4.0)\n",
            "Requirement already satisfied: aiosignal>=1.1.2 in /usr/local/lib/python3.10/dist-packages (from aiohttp->datasets) (1.3.1)\n",
            "Requirement already satisfied: filelock in /usr/local/lib/python3.10/dist-packages (from huggingface-hub<1.0.0,>=0.14.0->datasets) (3.12.2)\n",
            "Requirement already satisfied: typing-extensions>=3.7.4.3 in /usr/local/lib/python3.10/dist-packages (from huggingface-hub<1.0.0,>=0.14.0->datasets) (4.5.0)\n",
            "Requirement already satisfied: idna<4,>=2.5 in /usr/local/lib/python3.10/dist-packages (from requests>=2.19.0->datasets) (3.4)\n",
            "Requirement already satisfied: urllib3<3,>=1.21.1 in /usr/local/lib/python3.10/dist-packages (from requests>=2.19.0->datasets) (2.0.4)\n",
            "Requirement already satisfied: certifi>=2017.4.17 in /usr/local/lib/python3.10/dist-packages (from requests>=2.19.0->datasets) (2023.7.22)\n",
            "Requirement already satisfied: python-dateutil>=2.8.1 in /usr/local/lib/python3.10/dist-packages (from pandas->datasets) (2.8.2)\n",
            "Requirement already satisfied: pytz>=2020.1 in /usr/local/lib/python3.10/dist-packages (from pandas->datasets) (2023.3.post1)\n",
            "Requirement already satisfied: six>=1.5 in /usr/local/lib/python3.10/dist-packages (from python-dateutil>=2.8.1->pandas->datasets) (1.16.0)\n"
          ]
        }
      ],
      "source": [
        "!pip install datasets"
      ]
    },
    {
      "cell_type": "code",
      "source": [
        "dataset = load_dataset(\"copenlu/answerable_tydiqa\")"
      ],
      "metadata": {
        "id": "bNK3-NPoLsTe"
      },
      "id": "bNK3-NPoLsTe",
      "execution_count": null,
      "outputs": []
    },
    {
      "cell_type": "code",
      "source": [
        "train_set = dataset[\"train\"]\n",
        "validation_set = dataset[\"validation\"]"
      ],
      "metadata": {
        "id": "ofPjhHk3LzHs"
      },
      "id": "ofPjhHk3LzHs",
      "execution_count": null,
      "outputs": []
    },
    {
      "cell_type": "code",
      "source": [
        "def get_answer_start(row):\n",
        "  return row[\"annotations\"][\"answer_start\"][0]\n",
        "\n",
        "def get_answer(row):\n",
        "  return row[\"annotations\"][\"answer_text\"][0]\n",
        "\n",
        "def get_document(row):\n",
        "  return row[\"document_plaintext\"]\n",
        "\n",
        "def get_question(row):\n",
        "  return row[\"question_text\"]\n",
        "\n",
        "def oracle(answer, document):\n",
        "  return answer != \"\" and answer in document\n",
        "\n",
        "def get_language(dataset, lang):\n",
        "  return [row for row in dataset if row['language'] == lang]"
      ],
      "metadata": {
        "id": "NdSbfInjQrFS"
      },
      "id": "NdSbfInjQrFS",
      "execution_count": null,
      "outputs": []
    },
    {
      "cell_type": "code",
      "source": [
        "\n",
        "\n",
        "train_arabic = get_language(train_set, \"arabic\")\n",
        "val_arabic = get_language(validation_set, \"arabic\")\n",
        "\n",
        "train_bengali = get_language(train_set, \"bengali\")\n",
        "val_bengali = get_language(validation_set, \"bengali\")\n",
        "\n",
        "train_indonesian = get_language(train_set, \"indonesian\")\n",
        "val_indonesian = get_language(validation_set, \"indonesian\")"
      ],
      "metadata": {
        "id": "7F1-_AJA3HxD"
      },
      "id": "7F1-_AJA3HxD",
      "execution_count": null,
      "outputs": []
    },
    {
      "cell_type": "code",
      "source": [
        "def ratio_string(train, val):\n",
        "  val_ratio = round(len(val)/len(train)*100)\n",
        "  train_ratio = 100-val_ratio\n",
        "  return f\"{train_ratio} / {val_ratio}\"\n",
        "\n",
        "def answerable_ratio(ds):\n",
        "  answerable = round(sum([1 for row in ds if get_answer_start(row) == -1])/len(ds)*100)\n",
        "  nonansw = 100-answerable\n",
        "  return f\"{answerable} / {nonansw}\"\n",
        "\n",
        "print(f\"\"\"\n",
        "Dataset features:\n",
        "\n",
        "{train_set.column_names}\n",
        "\n",
        "Dataset sizes:\n",
        "\n",
        "(Arabic) Training set:                                          {len(train_arabic)}\n",
        "(Arabic) Validation set:                                        {len(val_arabic)}\n",
        "(Arabic) Ratio (Training/Val):                                  {ratio_string(train_arabic, val_arabic)}\n",
        "(Arabic) Training balance (Answerable / Not answerable):        {answerable_ratio(train_arabic)}\n",
        "(Arabic) Validation balance (Answerable / Not answerable):      {answerable_ratio(val_arabic)}\n",
        "\n",
        "(Bengali) Training set:                                         {len(train_bengali)}\n",
        "(Bengali) Validation set:                                       {len(val_bengali)}\n",
        "(Bengali) Ratio (Training/Val):                                 {ratio_string(train_bengali, val_bengali)}\n",
        "(Bengali) Training balance (Answerable / Not answerable):       {answerable_ratio(train_bengali)}\n",
        "(Bengali) Validation balance (Answerable / Not answerable):     {answerable_ratio(val_bengali)}\n",
        "\n",
        "(Indonesian) Training set:                                      {len(train_indonesian)}\n",
        "(Indonesian) Validation set:                                    {len(val_indonesian)}\n",
        "(Indonesian) Ratio (Training/Val):                              {ratio_string(train_indonesian, val_indonesian)}\n",
        "(Indonesian) Training balance (Answerable / Not answerable):    {answerable_ratio(train_indonesian)}\n",
        "(Indonesian) Validation balance (Answerable / Not answerable):  {answerable_ratio(val_indonesian)}\n",
        "\"\"\")"
      ],
      "metadata": {
        "colab": {
          "base_uri": "https://localhost:8080/",
          "height": 247
        },
        "id": "Q50oRN2V3Pjq",
        "outputId": "b8dd63c5-3202-456a-a860-9db37415112c"
      },
      "id": "Q50oRN2V3Pjq",
      "execution_count": 1,
      "outputs": [
        {
          "output_type": "error",
          "ename": "NameError",
          "evalue": "ignored",
          "traceback": [
            "\u001b[0;31m---------------------------------------------------------------------------\u001b[0m",
            "\u001b[0;31mNameError\u001b[0m                                 Traceback (most recent call last)",
            "\u001b[0;32m<ipython-input-1-e80b2326f805>\u001b[0m in \u001b[0;36m<cell line: 11>\u001b[0;34m()\u001b[0m\n\u001b[1;32m     12\u001b[0m \u001b[0mDataset\u001b[0m \u001b[0mfeatures\u001b[0m\u001b[0;34m:\u001b[0m\u001b[0;34m\u001b[0m\u001b[0;34m\u001b[0m\u001b[0m\n\u001b[1;32m     13\u001b[0m \u001b[0;34m\u001b[0m\u001b[0m\n\u001b[0;32m---> 14\u001b[0;31m \u001b[0;34m{\u001b[0m\u001b[0mtrain_set\u001b[0m\u001b[0;34m.\u001b[0m\u001b[0mcolumn_names\u001b[0m\u001b[0;34m}\u001b[0m\u001b[0;34m\u001b[0m\u001b[0;34m\u001b[0m\u001b[0m\n\u001b[0m\u001b[1;32m     15\u001b[0m \u001b[0;34m\u001b[0m\u001b[0m\n\u001b[1;32m     16\u001b[0m \u001b[0mDataset\u001b[0m \u001b[0msizes\u001b[0m\u001b[0;34m:\u001b[0m\u001b[0;34m\u001b[0m\u001b[0;34m\u001b[0m\u001b[0m\n",
            "\u001b[0;31mNameError\u001b[0m: name 'train_set' is not defined"
          ]
        }
      ]
    },
    {
      "cell_type": "code",
      "source": [
        "def bag_of_words(dataset, column):\n",
        "  bag = {}\n",
        "  for row in dataset:\n",
        "    tokens = nltk.word_tokenize(row[column])\n",
        "\n",
        "    for token in tokens:\n",
        "\n",
        "      if not token in bag:\n",
        "        bag[token] = 0\n",
        "\n",
        "      bag[token] += 1\n",
        "      #print(bag)\n",
        "  return sorted(bag.items(), key=lambda item: item[1], reverse=True)\n",
        "\n",
        "#def sort_bag(bag):\n",
        "#  return sorted(bag.items(), key=lambda item: item[1], reverse=True)"
      ],
      "metadata": {
        "id": "yF9nlZhv4kxc"
      },
      "id": "yF9nlZhv4kxc",
      "execution_count": null,
      "outputs": []
    },
    {
      "cell_type": "code",
      "source": [
        "arabic_doc_bow = bag_of_words(train_arabic, \"document_plaintext\")\n",
        "arabic_question_bow = bag_of_words(train_arabic, \"question_text\")\n",
        "\n",
        "bengali_doc_bow = bag_of_words(train_bengali, \"document_plaintext\")\n",
        "bengali_question_bow = bag_of_words(train_bengali, \"question_text\")\n",
        "\n",
        "indonesian_doc_bow = bag_of_words(train_indonesian, \"document_plaintext\")\n",
        "indonesian_question_bow = bag_of_words(train_indonesian, \"question_text\")"
      ],
      "metadata": {
        "id": "dg5x0EG-ADG9"
      },
      "id": "dg5x0EG-ADG9",
      "execution_count": null,
      "outputs": []
    },
    {
      "cell_type": "code",
      "source": [
        "print(f\"\"\"\n",
        "\n",
        "Most common words:\n",
        "\n",
        "(Arabic) Documents: {arabic_doc_bow[0:5]}\n",
        "(Arabic) Questions: {arabic_question_bow[0:5]}\n",
        "\n",
        "(Bengali) Documents: {bengali_doc_bow[0:5]}\n",
        "(Bengali) Questions: {bengali_question_bow[0:5]}\n",
        "\n",
        "(Indonesian) Documents: {indonesian_doc_bow[0:5]}\n",
        "(Indonesian) Questions: {indonesian_question_bow[0:5]}\n",
        "\"\"\")"
      ],
      "metadata": {
        "colab": {
          "base_uri": "https://localhost:8080/"
        },
        "id": "S38f93PzA1cK",
        "outputId": "d314e50c-bb14-47c3-ea9b-06c7398ef541"
      },
      "id": "S38f93PzA1cK",
      "execution_count": null,
      "outputs": [
        {
          "output_type": "stream",
          "name": "stdout",
          "text": [
            "\n",
            "\n",
            "Most common words:\n",
            "\n",
            "(Arabic) Documents: [('في', 89705), ('.', 88299), ('من', 61719), ('[', 38120), (']', 38119)]\n",
            "(Arabic) Questions: [('؟', 10061), ('ما', 7451), ('متى', 7130), ('هو', 6760), ('من', 6309)]\n",
            "\n",
            "(Bengali) Documents: [(',', 12184), (']', 7123), ('[', 7120), ('ও', 5195), ('এবং', 5102)]\n",
            "(Bengali) Questions: [('?', 4777), ('কী', 940), ('নাম', 837), ('কত', 802), ('হয়', 800)]\n",
            "\n",
            "(Indonesian) Documents: [(',', 54165), ('.', 43063), ('yang', 24077), ('dan', 23741), ('di', 16604)]\n",
            "(Indonesian) Questions: [('?', 11368), ('yang', 1814), ('Kapan', 1811), ('Apa', 1633), ('Apakah', 1227)]\n",
            "\n"
          ]
        }
      ]
    },
    {
      "cell_type": "code",
      "source": [],
      "metadata": {
        "id": "zN4Uu-eUC47F"
      },
      "id": "zN4Uu-eUC47F",
      "execution_count": null,
      "outputs": []
    },
    {
      "cell_type": "code",
      "source": [
        "def get_ratio(question, document, stop_words):\n",
        "  tokens = nltk.word_tokenize(question)\n",
        "  count = 0\n",
        "  stripped_tokens = set(tokens) - stop_words\n",
        "  for token in stripped_tokens:\n",
        "    if token in document:\n",
        "      count += 1\n",
        "  return count/len(stripped_tokens)\n",
        "\n",
        "\n",
        "def avg(lst):\n",
        "  return sum(lst)/len(lst)\n",
        "\n",
        "def get_average_ratios(training, stop_words):\n",
        "  answerable_ratios = []\n",
        "  nonanswerable_ratios = []\n",
        "  for row in training:\n",
        "    ratio = get_ratio(get_question(row), get_document(row), stop_words)\n",
        "    lst = answerable_ratios if oracle(get_answer(row), get_document(row)) else nonanswerable_ratios\n",
        "    lst.append(ratio)\n",
        "  return avg(answerable_ratios), avg(nonanswerable_ratios)\n",
        "\n",
        "class NaiveModel:\n",
        "  def __init__(self, stop_words):\n",
        "    self.stop_words = stop_words\n",
        "    self.ratio = -1\n",
        "\n",
        "  def train(self, training):\n",
        "    answerable_ratio, nonanswerable_ratio = get_average_ratios(training, self.stop_words)\n",
        "    self.ratio = (answerable_ratio + nonanswerable_ratio)/2\n",
        "\n",
        "  def classify(self, question, document):\n",
        "    return get_ratio(question, document, self.stop_words) > self.ratio\n",
        "\n",
        "def evaluate(validation, model):\n",
        "  res = [int(oracle(get_answer(row), get_document(row)) == model.classify(get_question(row), get_document(row))) for row in validation]\n",
        "  acc = avg(res)\n",
        "\n",
        "  ### Manual generation of confusion matrix for scores like Balanced Accuray and F-score\n",
        "  #tp, fp, tn, fn = 0, 0, 0, 0\n",
        "  #for row in validation:\n",
        "  #  gt = oracle(get_answer(row), get_document(row))\n",
        "  #  cl = model.classify(get_question(row), get_document(row))\n",
        "  #  if (cl):\n",
        "  #    if (gt):\n",
        "  #      tp += 1\n",
        "  #    else:\n",
        "  #      fp += 1\n",
        "  #  else:\n",
        "  #    if (gt):\n",
        "  #      fn += 1\n",
        "  #    else:\n",
        "  #      tn += 1\n",
        "  #tpr = tp / (tp + fn)\n",
        "  #tnr = tn / (tn + fp)\n",
        "  #ba = (tpr + tnr) / 2\n",
        "\n",
        "  print(f\"Accuracy: {round(acc*100, 4)}%\\n\")"
      ],
      "metadata": {
        "id": "Gv6cBI4gkfuc"
      },
      "id": "Gv6cBI4gkfuc",
      "execution_count": null,
      "outputs": []
    },
    {
      "cell_type": "code",
      "source": [
        "from nltk.corpus import stopwords\n",
        "\n",
        "nltk.download('stopwords')\n",
        "\n",
        "arabic_stop_words = set(stopwords.words('indonesian')) | set(string.punctuation) | set(\"؟\")\n",
        "bengali_stop_words = set(stopwords.words('bengali')) | set(string.punctuation)\n",
        "indonesian_stop_words = set(stopwords.words('indonesian')) | set(string.punctuation)"
      ],
      "metadata": {
        "colab": {
          "base_uri": "https://localhost:8080/"
        },
        "id": "1jFxO7xv2cou",
        "outputId": "046c4e54-c1c4-41f2-bd24-60aeeee189af"
      },
      "id": "1jFxO7xv2cou",
      "execution_count": null,
      "outputs": [
        {
          "output_type": "stream",
          "name": "stderr",
          "text": [
            "[nltk_data] Downloading package stopwords to /root/nltk_data...\n",
            "[nltk_data]   Package stopwords is already up-to-date!\n"
          ]
        }
      ]
    },
    {
      "cell_type": "code",
      "source": [
        "print(\"Evaluating arabic:\")\n",
        "\n",
        "arabic_model = NaiveModel(arabic_stop_words)\n",
        "arabic_model.train(train_arabic)\n",
        "evaluate(val_arabic, arabic_model)\n",
        "\n",
        "print(\"Evaluating bengali:\")\n",
        "\n",
        "bengali_model = NaiveModel(bengali_stop_words)\n",
        "bengali_model.train(train_bengali)\n",
        "evaluate(val_bengali, bengali_model)\n",
        "\n",
        "print(\"Evaluating indonesian:\")\n",
        "\n",
        "indonesian_model = NaiveModel(indonesian_stop_words)\n",
        "indonesian_model.train(train_indonesian)\n",
        "evaluate(val_indonesian, indonesian_model)"
      ],
      "metadata": {
        "colab": {
          "base_uri": "https://localhost:8080/"
        },
        "id": "ntx9BUllrVTT",
        "outputId": "aa0078c1-e873-4735-ee27-432f717acaaf"
      },
      "id": "ntx9BUllrVTT",
      "execution_count": null,
      "outputs": [
        {
          "output_type": "stream",
          "name": "stdout",
          "text": [
            "Evaluating arabic:\n",
            "Accuracy: 71.6614%\n",
            "\n",
            "Evaluating bengali:\n",
            "Accuracy: 72.3214%\n",
            "\n",
            "Evaluating indonesian:\n",
            "Accuracy: 71.2007%\n",
            "\n"
          ]
        }
      ]
    },
    {
      "cell_type": "code",
      "source": [],
      "metadata": {
        "id": "81a0R1Iixqhm"
      },
      "id": "81a0R1Iixqhm",
      "execution_count": null,
      "outputs": []
    }
  ],
  "metadata": {
    "kernelspec": {
      "display_name": "Python 3",
      "language": "python",
      "name": "python3"
    },
    "language_info": {
      "codemirror_mode": {
        "name": "ipython",
        "version": 3
      },
      "file_extension": ".py",
      "mimetype": "text/x-python",
      "name": "python",
      "nbconvert_exporter": "python",
      "pygments_lexer": "ipython3",
      "version": "3.8.8"
    },
    "colab": {
      "provenance": []
    }
  },
  "nbformat": 4,
  "nbformat_minor": 5
}