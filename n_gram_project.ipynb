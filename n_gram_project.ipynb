{
  "nbformat": 4,
  "nbformat_minor": 0,
  "metadata": {
    "colab": {
      "provenance": [],
      "collapsed_sections": [
        "8qW8p1mVn_7U",
        "00iPuos2eOzz",
        "n6PWJEIjUESm",
        "P36GWyb1VASp"
      ],
      "toc_visible": true,
      "authorship_tag": "ABX9TyMCOhqqdp9vB6LrOdewkH6s",
      "include_colab_link": true
    },
    "kernelspec": {
      "name": "python3",
      "display_name": "Python 3"
    },
    "language_info": {
      "name": "python"
    }
  },
  "cells": [
    {
      "cell_type": "markdown",
      "metadata": {
        "id": "view-in-github",
        "colab_type": "text"
      },
      "source": [
        "<a href=\"https://colab.research.google.com/github/Axel0087/NLP2023/blob/Simone-dev/n_gram_project.ipynb\" target=\"_parent\"><img src=\"https://colab.research.google.com/assets/colab-badge.svg\" alt=\"Open In Colab\"/></a>"
      ]
    },
    {
      "cell_type": "code",
      "source": [
        "%%capture\n",
        "!pip install datasets"
      ],
      "metadata": {
        "id": "7AerfbEsKfb4"
      },
      "execution_count": 1,
      "outputs": []
    },
    {
      "cell_type": "code",
      "source": [
        "import pandas as pd\n",
        "import matplotlib.pyplot as plt"
      ],
      "metadata": {
        "id": "nW2dz3OA8qi6"
      },
      "execution_count": 2,
      "outputs": []
    },
    {
      "cell_type": "code",
      "source": [
        "import nltk\n",
        "import string\n",
        "from datasets import load_dataset\n",
        "nltk.download('punkt')\n",
        "nltk.download('stopwords')\n",
        "from nltk.corpus import stopwords\n"
      ],
      "metadata": {
        "colab": {
          "base_uri": "https://localhost:8080/"
        },
        "id": "-lGYUCyJKcd3",
        "outputId": "9820e69b-66c5-4239-b04c-ae6c9f91136e"
      },
      "execution_count": 3,
      "outputs": [
        {
          "output_type": "stream",
          "name": "stderr",
          "text": [
            "[nltk_data] Downloading package punkt to /root/nltk_data...\n",
            "[nltk_data]   Package punkt is already up-to-date!\n",
            "[nltk_data] Downloading package stopwords to /root/nltk_data...\n",
            "[nltk_data]   Package stopwords is already up-to-date!\n"
          ]
        }
      ]
    },
    {
      "cell_type": "code",
      "source": [
        "dataset = load_dataset(\"copenlu/answerable_tydiqa\")"
      ],
      "metadata": {
        "id": "dqq2eo7pKkAZ"
      },
      "execution_count": 4,
      "outputs": []
    },
    {
      "cell_type": "code",
      "source": [
        "train_set = dataset[\"train\"]\n",
        "validation_set = dataset[\"validation\"]"
      ],
      "metadata": {
        "id": "qz_4-WQ6KmzE"
      },
      "execution_count": 5,
      "outputs": []
    },
    {
      "cell_type": "code",
      "source": [
        "def get_answer_start(row):\n",
        "  return row[\"annotations\"][\"answer_start\"][0]\n",
        "\n",
        "def get_answer(row):\n",
        "  return row[\"annotations\"][\"answer_text\"][0]\n",
        "\n",
        "def get_document(row):\n",
        "  return row[\"document_plaintext\"]\n",
        "\n",
        "def get_question(row):\n",
        "  return row[\"question_text\"]\n",
        "\n",
        "def oracle(answer, document):\n",
        "  return answer != \"\" and answer in document\n",
        "\n",
        "def get_language(dataset, lang):\n",
        "  return [row for row in dataset if row['language'] == lang]"
      ],
      "metadata": {
        "id": "02VkIlR5KpKP"
      },
      "execution_count": 6,
      "outputs": []
    },
    {
      "cell_type": "code",
      "source": [
        "train_arabic = get_language(train_set, \"arabic\")\n",
        "val_arabic = get_language(validation_set, \"arabic\")\n",
        "\n",
        "train_bengali = get_language(train_set, \"bengali\")\n",
        "val_bengali = get_language(validation_set, \"bengali\")\n",
        "\n",
        "train_indonesian = get_language(train_set, \"indonesian\")\n",
        "val_indonesian = get_language(validation_set, \"indonesian\")"
      ],
      "metadata": {
        "id": "oOckpt2-ENXu"
      },
      "execution_count": 7,
      "outputs": []
    },
    {
      "cell_type": "code",
      "source": [
        "train_arabic_doc = [get_document(row) for row in train_arabic]\n",
        "train_arabic_question = [get_question(row) for row in train_arabic]\n",
        "\n",
        "train_bengali_doc = [get_document(row) for row in train_bengali]\n",
        "train_bengali_question = [get_question(row) for row in train_bengali]\n",
        "\n",
        "train_indonesian_doc = [get_document(row) for row in train_indonesian]\n",
        "train_indonesian_question = [get_question(row) for row in train_indonesian]"
      ],
      "metadata": {
        "id": "jCgke-FehL8H"
      },
      "execution_count": 8,
      "outputs": []
    },
    {
      "cell_type": "markdown",
      "source": [
        "# **Tokenize**"
      ],
      "metadata": {
        "id": "LvXgpAloaYX8"
      }
    },
    {
      "cell_type": "code",
      "source": [
        "import string"
      ],
      "metadata": {
        "id": "v7Izyeu-x2nX"
      },
      "execution_count": 9,
      "outputs": []
    },
    {
      "cell_type": "code",
      "source": [
        "string.punctuation"
      ],
      "metadata": {
        "colab": {
          "base_uri": "https://localhost:8080/",
          "height": 36
        },
        "id": "UdMLOxOL4DrV",
        "outputId": "6c8dc006-5e3f-463c-990e-297b17f2f641"
      },
      "execution_count": 10,
      "outputs": [
        {
          "output_type": "execute_result",
          "data": {
            "text/plain": [
              "'!\"#$%&\\'()*+,-./:;<=>?@[\\\\]^_`{|}~'"
            ],
            "application/vnd.google.colaboratory.intrinsic+json": {
              "type": "string"
            }
          },
          "metadata": {},
          "execution_count": 10
        }
      ]
    },
    {
      "cell_type": "code",
      "source": [
        "string.punctuation = string.punctuation +'\"'+'\"'+'-'+'''+'''+'—'\n"
      ],
      "metadata": {
        "id": "VpLvm79r4jfu"
      },
      "execution_count": 11,
      "outputs": []
    },
    {
      "cell_type": "code",
      "source": [
        "def tokenize_and_remove_stopwords(text,removal_list):\n",
        "\n",
        "    # Tokenize the text and convert to lowercase\n",
        "    tokens = nltk.word_tokenize(text.lower())\n",
        "\n",
        "    # Filter out tokens that are both in string.punctuation and stopwords\n",
        "    cleaned_tokens = [token for token in tokens if token not in removal_list]\n",
        "\n",
        "    return cleaned_tokens"
      ],
      "metadata": {
        "id": "9wz-Qs4HywJS"
      },
      "execution_count": 12,
      "outputs": []
    },
    {
      "cell_type": "markdown",
      "source": [
        "## removal_list"
      ],
      "metadata": {
        "id": "WfUAguMhcwpE"
      }
    },
    {
      "cell_type": "code",
      "source": [
        "english_removal_list =  list(string.punctuation)+ ['lt','rt'] + [\"``\",\"´´\", \"''\"] #+ list(set(stopwords.words('english')))\n",
        "arabic_removal_list =  list(string.punctuation)+ [\"؟\"]+ ['lt','rt'] + [\"``\",\"´´\", \"''\"] #list(set(stopwords.words('arabic'))) +\n",
        "bengali_removal_list =  list(string.punctuation)+ ['lt','rt'] + [\"``\",\"´´\", \"''\"] #list(set(stopwords.words('bengali')))\n",
        "indonesian_removal_list =  list(string.punctuation)+ ['lt','rt'] + [\"``\",\"´´\", \"''\"] #list(set(stopwords.words('indonesian'))) +\n"
      ],
      "metadata": {
        "id": "nFYp9WAsAfmf"
      },
      "execution_count": 13,
      "outputs": []
    },
    {
      "cell_type": "code",
      "source": [
        "tokenized_arabic_document = [tokenize_and_remove_stopwords(item,arabic_removal_list) for item in train_arabic_doc]\n"
      ],
      "metadata": {
        "id": "uyvZ-7pEhjAu"
      },
      "execution_count": 14,
      "outputs": []
    },
    {
      "cell_type": "markdown",
      "source": [
        "## Arabic"
      ],
      "metadata": {
        "id": "sLkF8iTocg5i"
      }
    },
    {
      "cell_type": "code",
      "source": [
        "#Train set\n",
        "tokenized_arabic_document = [tokenize_and_remove_stopwords(item,arabic_removal_list) for item in train_arabic_doc]\n",
        "tokenized_arabic_question = [tokenize_and_remove_stopwords(item,arabic_removal_list) for item in train_arabic_question]\n",
        "\n",
        "#Validation set\n",
        "val_tokenized_arabic_document = [tokenize_and_remove_stopwords(item['document_plaintext'],arabic_removal_list) for item in val_arabic]\n",
        "val_tokenized_arabic_question = [tokenize_and_remove_stopwords(item['question_text'],arabic_removal_list) for item in val_arabic]\n"
      ],
      "metadata": {
        "id": "phoRCe1qDtSP"
      },
      "execution_count": 15,
      "outputs": []
    },
    {
      "cell_type": "markdown",
      "source": [
        "## Bengali"
      ],
      "metadata": {
        "id": "3GXcv--Vcivg"
      }
    },
    {
      "cell_type": "code",
      "source": [
        "tokenized_bengali_document = [tokenize_and_remove_stopwords(item,bengali_removal_list) for item in train_bengali_doc]\n",
        "tokenized_bengali_question = [tokenize_and_remove_stopwords(item,bengali_removal_list) for item in train_bengali_question]\n",
        "\n",
        "val_tokenized_bengali_document = [tokenize_and_remove_stopwords(item['document_plaintext'],bengali_removal_list) for item in val_bengali]\n",
        "val_tokenized_bengali_question = [tokenize_and_remove_stopwords(item['question_text'],bengali_removal_list) for item in val_bengali]\n"
      ],
      "metadata": {
        "id": "hdGRVvY7cFNv"
      },
      "execution_count": 16,
      "outputs": []
    },
    {
      "cell_type": "code",
      "source": [
        "val_tokenized_bengali_question[0]"
      ],
      "metadata": {
        "colab": {
          "base_uri": "https://localhost:8080/"
        },
        "id": "3mZq3QaGdHBw",
        "outputId": "0804f3df-8116-47e0-bd50-fc31f1802ce2"
      },
      "execution_count": 17,
      "outputs": [
        {
          "output_type": "execute_result",
          "data": {
            "text/plain": [
              "['পশ্চিম',\n",
              " 'ভারতের',\n",
              " 'মহারাষ্ট্র',\n",
              " 'রাজ্যের',\n",
              " 'মুম্বাই',\n",
              " 'শহরে',\n",
              " 'নির্মিত',\n",
              " 'গেটওয়ে',\n",
              " 'অব',\n",
              " 'ইন্ডিয়া',\n",
              " 'স্থাপত্যটির',\n",
              " 'ভিত্তিপ্রস্তর',\n",
              " 'স্থাপন',\n",
              " 'করেন',\n",
              " 'কে']"
            ]
          },
          "metadata": {},
          "execution_count": 17
        }
      ]
    },
    {
      "cell_type": "markdown",
      "source": [
        "Translated to this\n",
        "'পশ্চিম' - West\n",
        "'ভারতের' - of India\n",
        "'মহারাষ্ট্র' - Maharashtra\n",
        "'রাজ্যের' - state's\n",
        "'মুম্বাই' - Mumbai\n",
        "'শহরে' - in the city\n",
        "'নির্মিত' - constructed\n",
        "'গেটওয়ে' - gateway\n",
        "'অব' - of\n",
        "'ইন্ডিয়া' - India\n",
        "'স্থাপত্যটির' - architectural\n",
        "'ভিত্তিপ্রস্তর' - landmark's\n",
        "'স্থাপন' - establishment"
      ],
      "metadata": {
        "id": "oQIbLnegd098"
      }
    },
    {
      "cell_type": "markdown",
      "source": [
        "## Indonesia"
      ],
      "metadata": {
        "id": "EDtUaB4ycl7P"
      }
    },
    {
      "cell_type": "code",
      "source": [
        "tokenized_indonesian_document = [tokenize_and_remove_stopwords(item,indonesian_removal_list) for item in train_indonesian_doc]\n",
        "tokenized_indonesian_question = [tokenize_and_remove_stopwords(item,indonesian_removal_list) for item in train_indonesian_question]\n",
        "\n",
        "val_tokenized_indonesian_document = [tokenize_and_remove_stopwords(item['document_plaintext'],indonesian_removal_list) for item in val_indonesian]\n",
        "val_tokenized_indonesian_question = [tokenize_and_remove_stopwords(item['question_text'],indonesian_removal_list) for item in val_indonesian]"
      ],
      "metadata": {
        "id": "ukwkQsRScFdi"
      },
      "execution_count": 18,
      "outputs": []
    },
    {
      "cell_type": "code",
      "source": [
        "val_tokenized_indonesian_question[0]"
      ],
      "metadata": {
        "colab": {
          "base_uri": "https://localhost:8080/"
        },
        "id": "_-JMk1k1YW4V",
        "outputId": "3a6ea342-a7cc-4d9d-eb59-a63583490efb"
      },
      "execution_count": 19,
      "outputs": [
        {
          "output_type": "execute_result",
          "data": {
            "text/plain": [
              "['siapakah', 'yang', 'menemuka', 'benua', 'amerika']"
            ]
          },
          "metadata": {},
          "execution_count": 19
        }
      ]
    },
    {
      "cell_type": "markdown",
      "source": [
        "translates to 'menemukan' - found/discovered\n",
        "'benua' - continent\n",
        "'amerika' - America"
      ],
      "metadata": {
        "id": "m5diGZS0eMBx"
      }
    },
    {
      "cell_type": "code",
      "source": [
        "from nltk import ngrams"
      ],
      "metadata": {
        "id": "BS1HkOFO2hFt"
      },
      "execution_count": 20,
      "outputs": []
    },
    {
      "cell_type": "markdown",
      "source": [
        "# Language Models"
      ],
      "metadata": {
        "id": "_CJ_DNeMefXV"
      }
    },
    {
      "cell_type": "markdown",
      "source": [
        " **Inserting Out-of-Vocabularly Tokens**"
      ],
      "metadata": {
        "id": "WtoJSF-Yozwn"
      }
    },
    {
      "cell_type": "code",
      "source": [
        "OOV = '[OOV]'\n",
        "def inject_OOVs(data):\n",
        "    \"\"\"\n",
        "    Uses a heuristic to inject OOV symbols into a dataset.\n",
        "    Args:\n",
        "        data: the sequence of words to inject OOVs into.\n",
        "\n",
        "    Returns: the new sequence with OOV symbols injected.\n",
        "    \"\"\"\n",
        "    seen = set()\n",
        "    result= []\n",
        "    for sentence in data:\n",
        "      sentence_result = []\n",
        "\n",
        "      for word in sentence:\n",
        "          if word in seen:\n",
        "              sentence_result.append(word)\n",
        "          else:\n",
        "              sentence_result.append(OOV)\n",
        "              seen.add(word)\n",
        "      result.append(sentence_result)\n",
        "    return result\n",
        "\n",
        "def replace_OOVs(vocab,data):\n",
        "    \"\"\"\n",
        "    Replace every word not within the vocabulary with the `OOV` symbol.\n",
        "    Args:\n",
        "        vocab: the reference vocabulary.\n",
        "        data: the sequence of tokens to replace words within\n",
        "\n",
        "    Returns:\n",
        "        a version of `data` where each word not in `vocab` is replaced by the `OOV` symbol.\n",
        "    \"\"\"\n",
        "    result= []\n",
        "    for sentence in data:\n",
        "      sentence_result = []\n",
        "\n",
        "      for word in sentence:\n",
        "        if word in vocab:\n",
        "              sentence_result.append(word)\n",
        "        else :\n",
        "              sentence_result.append(OOV)\n",
        "      result.append(sentence_result)\n",
        "    return result"
      ],
      "metadata": {
        "id": "eLjJ8XS4URpI"
      },
      "execution_count": 21,
      "outputs": []
    },
    {
      "cell_type": "code",
      "source": [
        "from nltk.lm.preprocessing import padded_everygram_pipeline\n",
        "from nltk.lm import MLE\n"
      ],
      "metadata": {
        "id": "OLGxh4c_N4ZA"
      },
      "execution_count": 22,
      "outputs": []
    },
    {
      "cell_type": "code",
      "source": [
        "def get_gram(text_list,n):\n",
        "    count_dict = []\n",
        "\n",
        "    # Iterate through the input list of text\n",
        "    for text in text_list:\n",
        "\n",
        "        # Generate bigrams as strings\n",
        "        count_dict.append([ gram for gram in ngrams(text, n)]) #[' '.join(gram) for gram in ngrams(text, n)]\n",
        "\n",
        "    return  [item for sublist in count_dict for item in sublist]"
      ],
      "metadata": {
        "id": "xDqaBQFB1SFU"
      },
      "execution_count": 23,
      "outputs": []
    },
    {
      "cell_type": "code",
      "source": [
        "class N_grams:\n",
        "\n",
        "  def __init__(self, trainset,n):\n",
        "    #tokenized dataset\n",
        "    self.trainset = trainset\n",
        "    self.n = n\n",
        "    self.train, self.vocab_2 = padded_everygram_pipeline(n, trainset)\n",
        "    self.lm = None\n",
        "\n",
        "  #  self.vocab = self.lm.vocab #list(vocab_2)\n",
        "\n",
        "  def fitModel(self):\n",
        "    self.lm = MLE(self.n)\n",
        "    self.lm.fit(self.train, self.vocab_2)\n",
        "    #self.lm = Laplace(self.n, vocabulary_text=self.trainset)\n",
        "    #self.lm.fit(self.train)\n",
        "\n",
        "\n",
        "  def get_vocab(self):\n",
        "    return self.lm.vocab\n",
        "\n",
        "  def probability(self, word, history=''):\n",
        "        return(self.lm.score(word, history.split()))\n",
        "        #return 1.0 / len(self.vocab) if word in self.vocab else 0.0\n",
        "\n",
        "  def perplexity(self,valset):\n",
        "      return self.lm.perplexity(get_gram(valset,self.n))\n",
        "\n",
        "  #def counts(self, word):\n",
        "   #   return self.lm.counts[[\"word\"]]\n",
        "\n"
      ],
      "metadata": {
        "id": "yh_99qbk0KFz"
      },
      "execution_count": 24,
      "outputs": []
    },
    {
      "cell_type": "code",
      "source": [
        "def plot_prob(lm,context='',amount = 10):\n",
        "  probs = sorted([(word,lm.probability(word,context)) for word in lm.get_vocab()], key=lambda x:x[1], reverse=True)[:amount]\n",
        "  df_probs=pd.DataFrame(probs)\n",
        "  #print(df_probs)\n",
        "  pd1=df_probs[0][:10]\n",
        "  pd2=df_probs[1][:10]\n",
        "\n",
        "  plt.figure(1,figsize=(16,4))\n",
        "\n",
        "  plt.bar(pd1,pd2, color ='green',  width = 0.4)\n",
        "\n",
        "  plt.xlabel(\"Words in questions\")\n",
        "  plt.ylabel(\"Probability\")\n",
        "  plt.title(f\"Top {amount} words in the model\")\n",
        "  return plt, probs\n",
        "\n"
      ],
      "metadata": {
        "id": "rOc1d2Ak31EN"
      },
      "execution_count": 25,
      "outputs": []
    },
    {
      "cell_type": "markdown",
      "source": [
        "# **Arabic**"
      ],
      "metadata": {
        "id": "Jsgm2UwWWQqr"
      }
    },
    {
      "cell_type": "code",
      "source": [
        "perplexity ={}\n",
        "probabilities = {}"
      ],
      "metadata": {
        "id": "ZqbSdFhRs7qN"
      },
      "execution_count": 26,
      "outputs": []
    },
    {
      "cell_type": "markdown",
      "source": [
        "### Document"
      ],
      "metadata": {
        "id": "UrZjGZRvYnv9"
      }
    },
    {
      "cell_type": "code",
      "source": [
        "tokenized_arabic_document_oov = inject_OOVs(tokenized_arabic_document)"
      ],
      "metadata": {
        "id": "v1Z-H9_aXoBW"
      },
      "execution_count": 27,
      "outputs": []
    },
    {
      "cell_type": "code",
      "source": [
        "unigram_arabic_document_oov = N_grams(tokenized_arabic_document_oov,1)\n",
        "unigram_arabic_document_oov.fitModel()"
      ],
      "metadata": {
        "id": "kIv_F9GIGk1e"
      },
      "execution_count": 28,
      "outputs": []
    },
    {
      "cell_type": "code",
      "source": [
        "oov_val_arabic_document  = replace_OOVs(unigram_arabic_document_oov.get_vocab(),val_tokenized_arabic_document)\n",
        "perplexity['Arabic','document']= unigram_arabic_document_oov.perplexity(oov_val_arabic_document)"
      ],
      "metadata": {
        "id": "kVlqwWNmX6GS"
      },
      "execution_count": 29,
      "outputs": []
    },
    {
      "cell_type": "markdown",
      "source": [
        "### plot"
      ],
      "metadata": {
        "id": "Px7UUTTshWOX"
      }
    },
    {
      "cell_type": "code",
      "source": [
        "plot, prob = plot_prob(unigram_arabic_document_oov)"
      ],
      "metadata": {
        "colab": {
          "base_uri": "https://localhost:8080/",
          "height": 301
        },
        "id": "vYEV4Ar4Yyeu",
        "outputId": "6f1a6902-76f9-455a-e460-fdfced539e9a"
      },
      "execution_count": 30,
      "outputs": [
        {
          "output_type": "display_data",
          "data": {
            "text/plain": [
              "<Figure size 1600x400 with 1 Axes>"
            ],
            "image/png": "[encoded data removed]"
          },
          "metadata": {}
        }
      ]
    },
    {
      "cell_type": "markdown",
      "source": [
        "## Questions"
      ],
      "metadata": {
        "id": "6NFm7DKHa8Wy"
      }
    },
    {
      "cell_type": "code",
      "source": [
        "tokenized_arabic_question_oov = inject_OOVs(tokenized_arabic_question)"
      ],
      "metadata": {
        "id": "NhDibGsfZBJr"
      },
      "execution_count": 31,
      "outputs": []
    },
    {
      "cell_type": "code",
      "source": [
        "unigram_arabic_question_oov = N_grams(tokenized_arabic_question_oov,1)\n",
        "unigram_arabic_question_oov.fitModel()"
      ],
      "metadata": {
        "id": "tD2kH5k2ZGg-"
      },
      "execution_count": 32,
      "outputs": []
    },
    {
      "cell_type": "code",
      "source": [
        "oov_val_arabic_question  = replace_OOVs(unigram_arabic_question_oov.get_vocab(),val_tokenized_arabic_question)\n",
        "perplexity['Arabic','question']= unigram_arabic_question_oov.perplexity(oov_val_arabic_question)"
      ],
      "metadata": {
        "id": "fdCjhM0YZOAU"
      },
      "execution_count": 33,
      "outputs": []
    },
    {
      "cell_type": "markdown",
      "source": [
        "### plot"
      ],
      "metadata": {
        "id": "uw90cVn4haJK"
      }
    },
    {
      "cell_type": "code",
      "source": [
        "plot , probabilities['Arabic','question'] = plot_prob(unigram_arabic_question_oov)"
      ],
      "metadata": {
        "colab": {
          "base_uri": "https://localhost:8080/",
          "height": 301
        },
        "id": "abLQV_R3ZZkB",
        "outputId": "717113f2-2659-4596-e7e6-d91b0809bb5e"
      },
      "execution_count": 34,
      "outputs": [
        {
          "output_type": "display_data",
          "data": {
            "text/plain": [
              "<Figure size 1600x400 with 1 Axes>"
            ],
            "image/png": "[encoded data removed]"
          },
          "metadata": {}
        }
      ]
    },
    {
      "cell_type": "markdown",
      "source": [
        "# **Bengali**"
      ],
      "metadata": {
        "id": "VBd5SF2ue28K"
      }
    },
    {
      "cell_type": "markdown",
      "source": [
        "## document\n"
      ],
      "metadata": {
        "id": "Pa0D6dNoh8Gk"
      }
    },
    {
      "cell_type": "code",
      "source": [
        "tokenized_bengali_document_oov =inject_OOVs(tokenized_bengali_document)"
      ],
      "metadata": {
        "id": "Caoth5Woe1PW"
      },
      "execution_count": 35,
      "outputs": []
    },
    {
      "cell_type": "code",
      "source": [
        "unigram_bengali_document_oov = N_grams(tokenized_bengali_document_oov,1)\n",
        "unigram_bengali_document_oov.fitModel()"
      ],
      "metadata": {
        "id": "B8XKsZ8Sfaie"
      },
      "execution_count": 36,
      "outputs": []
    },
    {
      "cell_type": "code",
      "source": [
        "oov_val_bengali_document = replace_OOVs(unigram_bengali_document_oov.get_vocab(),val_tokenized_bengali_document)\n",
        "perplexity['Bengali','document']=  unigram_bengali_document_oov.perplexity(oov_val_bengali_document)"
      ],
      "metadata": {
        "id": "MbtVu4ppflNe"
      },
      "execution_count": 37,
      "outputs": []
    },
    {
      "cell_type": "markdown",
      "source": [
        "### plot"
      ],
      "metadata": {
        "id": "Lhs1nZ1whwTt"
      }
    },
    {
      "cell_type": "code",
      "source": [
        "plot , probabilities['Bengali','document'] = plot_prob(unigram_bengali_document_oov)"
      ],
      "metadata": {
        "colab": {
          "base_uri": "https://localhost:8080/",
          "height": 1000
        },
        "id": "FpTLZaWMgICF",
        "outputId": "1ea83853-35f8-4f23-e035-2550c570ade9"
      },
      "execution_count": 38,
      "outputs": [
        {
          "output_type": "stream",
          "name": "stderr",
          "text": [
            "/usr/local/lib/python3.10/dist-packages/IPython/core/events.py:89: UserWarning: Glyph 2451 (\\N{BENGALI LETTER O}) missing from current font.\n",
            "  func(*args, **kwargs)\n",
            "/usr/local/lib/python3.10/dist-packages/IPython/core/events.py:89: UserWarning: Matplotlib currently does not support Bengali natively.\n",
            "  func(*args, **kwargs)\n",
            "/usr/local/lib/python3.10/dist-packages/IPython/core/events.py:89: UserWarning: Glyph 2447 (\\N{BENGALI LETTER E}) missing from current font.\n",
            "  func(*args, **kwargs)\n",
            "/usr/local/lib/python3.10/dist-packages/IPython/core/events.py:89: UserWarning: Glyph 2476 (\\N{BENGALI LETTER BA}) missing from current font.\n",
            "  func(*args, **kwargs)\n",
            "/usr/local/lib/python3.10/dist-packages/IPython/core/events.py:89: UserWarning: Glyph 2434 (\\N{BENGALI SIGN ANUSVARA}) missing from current font.\n",
            "  func(*args, **kwargs)\n",
            "/usr/local/lib/python3.10/dist-packages/IPython/core/events.py:89: UserWarning: Glyph 2439 (\\N{BENGALI LETTER I}) missing from current font.\n",
            "  func(*args, **kwargs)\n",
            "/usr/local/lib/python3.10/dist-packages/IPython/core/events.py:89: UserWarning: Glyph 2489 (\\N{BENGALI LETTER HA}) missing from current font.\n",
            "  func(*args, **kwargs)\n",
            "/usr/local/lib/python3.10/dist-packages/IPython/core/events.py:89: UserWarning: Glyph 2479 (\\N{BENGALI LETTER YA}) missing from current font.\n",
            "  func(*args, **kwargs)\n",
            "/usr/local/lib/python3.10/dist-packages/IPython/core/events.py:89: UserWarning: Glyph 2492 (\\N{BENGALI SIGN NUKTA}) missing from current font.\n",
            "  func(*args, **kwargs)\n",
            "/usr/local/lib/python3.10/dist-packages/IPython/core/events.py:89: UserWarning: Glyph 2404 (\\N{DEVANAGARI DANDA}) missing from current font.\n",
            "  func(*args, **kwargs)\n",
            "/usr/local/lib/python3.10/dist-packages/IPython/core/events.py:89: UserWarning: Matplotlib currently does not support Devanagari natively.\n",
            "  func(*args, **kwargs)\n",
            "/usr/local/lib/python3.10/dist-packages/IPython/core/events.py:89: UserWarning: Glyph 2468 (\\N{BENGALI LETTER TA}) missing from current font.\n",
            "  func(*args, **kwargs)\n",
            "/usr/local/lib/python3.10/dist-packages/IPython/core/events.py:89: UserWarning: Glyph 2495 (\\N{BENGALI VOWEL SIGN I}) missing from current font.\n",
            "  func(*args, **kwargs)\n",
            "/usr/local/lib/python3.10/dist-packages/IPython/core/events.py:89: UserWarning: Glyph 2472 (\\N{BENGALI LETTER NA}) missing from current font.\n",
            "  func(*args, **kwargs)\n",
            "/usr/local/lib/python3.10/dist-packages/IPython/core/events.py:89: UserWarning: Glyph 2469 (\\N{BENGALI LETTER THA}) missing from current font.\n",
            "  func(*args, **kwargs)\n",
            "/usr/local/lib/python3.10/dist-packages/IPython/core/events.py:89: UserWarning: Glyph 2503 (\\N{BENGALI VOWEL SIGN E}) missing from current font.\n",
            "  func(*args, **kwargs)\n",
            "/usr/local/lib/python3.10/dist-packages/IPython/core/events.py:89: UserWarning: Glyph 2453 (\\N{BENGALI LETTER KA}) missing from current font.\n",
            "  func(*args, **kwargs)\n",
            "/usr/local/lib/python3.10/dist-packages/IPython/core/events.py:89: UserWarning: Glyph 2488 (\\N{BENGALI LETTER SA}) missing from current font.\n",
            "  func(*args, **kwargs)\n",
            "/usr/local/lib/python3.10/dist-packages/IPython/core/events.py:89: UserWarning: Glyph 2494 (\\N{BENGALI VOWEL SIGN AA}) missing from current font.\n",
            "  func(*args, **kwargs)\n",
            "/usr/local/lib/python3.10/dist-packages/IPython/core/events.py:89: UserWarning: Glyph 2482 (\\N{BENGALI LETTER LA}) missing from current font.\n",
            "  func(*args, **kwargs)\n",
            "/usr/local/lib/python3.10/dist-packages/IPython/core/events.py:89: UserWarning: Glyph 2480 (\\N{BENGALI LETTER RA}) missing from current font.\n",
            "  func(*args, **kwargs)\n",
            "/usr/local/lib/python3.10/dist-packages/IPython/core/pylabtools.py:151: UserWarning: Glyph 2451 (\\N{BENGALI LETTER O}) missing from current font.\n",
            "  fig.canvas.print_figure(bytes_io, **kw)\n",
            "/usr/local/lib/python3.10/dist-packages/IPython/core/pylabtools.py:151: UserWarning: Matplotlib currently does not support Bengali natively.\n",
            "  fig.canvas.print_figure(bytes_io, **kw)\n",
            "/usr/local/lib/python3.10/dist-packages/IPython/core/pylabtools.py:151: UserWarning: Glyph 2447 (\\N{BENGALI LETTER E}) missing from current font.\n",
            "  fig.canvas.print_figure(bytes_io, **kw)\n",
            "/usr/local/lib/python3.10/dist-packages/IPython/core/pylabtools.py:151: UserWarning: Glyph 2476 (\\N{BENGALI LETTER BA}) missing from current font.\n",
            "  fig.canvas.print_figure(bytes_io, **kw)\n",
            "/usr/local/lib/python3.10/dist-packages/IPython/core/pylabtools.py:151: UserWarning: Glyph 2434 (\\N{BENGALI SIGN ANUSVARA}) missing from current font.\n",
            "  fig.canvas.print_figure(bytes_io, **kw)\n",
            "/usr/local/lib/python3.10/dist-packages/IPython/core/pylabtools.py:151: UserWarning: Glyph 2439 (\\N{BENGALI LETTER I}) missing from current font.\n",
            "  fig.canvas.print_figure(bytes_io, **kw)\n",
            "/usr/local/lib/python3.10/dist-packages/IPython/core/pylabtools.py:151: UserWarning: Glyph 2489 (\\N{BENGALI LETTER HA}) missing from current font.\n",
            "  fig.canvas.print_figure(bytes_io, **kw)\n",
            "/usr/local/lib/python3.10/dist-packages/IPython/core/pylabtools.py:151: UserWarning: Glyph 2479 (\\N{BENGALI LETTER YA}) missing from current font.\n",
            "  fig.canvas.print_figure(bytes_io, **kw)\n",
            "/usr/local/lib/python3.10/dist-packages/IPython/core/pylabtools.py:151: UserWarning: Glyph 2492 (\\N{BENGALI SIGN NUKTA}) missing from current font.\n",
            "  fig.canvas.print_figure(bytes_io, **kw)\n",
            "/usr/local/lib/python3.10/dist-packages/IPython/core/pylabtools.py:151: UserWarning: Glyph 2404 (\\N{DEVANAGARI DANDA}) missing from current font.\n",
            "  fig.canvas.print_figure(bytes_io, **kw)\n",
            "/usr/local/lib/python3.10/dist-packages/IPython/core/pylabtools.py:151: UserWarning: Matplotlib currently does not support Devanagari natively.\n",
            "  fig.canvas.print_figure(bytes_io, **kw)\n",
            "/usr/local/lib/python3.10/dist-packages/IPython/core/pylabtools.py:151: UserWarning: Glyph 2468 (\\N{BENGALI LETTER TA}) missing from current font.\n",
            "  fig.canvas.print_figure(bytes_io, **kw)\n",
            "/usr/local/lib/python3.10/dist-packages/IPython/core/pylabtools.py:151: UserWarning: Glyph 2495 (\\N{BENGALI VOWEL SIGN I}) missing from current font.\n",
            "  fig.canvas.print_figure(bytes_io, **kw)\n",
            "/usr/local/lib/python3.10/dist-packages/IPython/core/pylabtools.py:151: UserWarning: Glyph 2472 (\\N{BENGALI LETTER NA}) missing from current font.\n",
            "  fig.canvas.print_figure(bytes_io, **kw)\n",
            "/usr/local/lib/python3.10/dist-packages/IPython/core/pylabtools.py:151: UserWarning: Glyph 2469 (\\N{BENGALI LETTER THA}) missing from current font.\n",
            "  fig.canvas.print_figure(bytes_io, **kw)\n",
            "/usr/local/lib/python3.10/dist-packages/IPython/core/pylabtools.py:151: UserWarning: Glyph 2503 (\\N{BENGALI VOWEL SIGN E}) missing from current font.\n",
            "  fig.canvas.print_figure(bytes_io, **kw)\n",
            "/usr/local/lib/python3.10/dist-packages/IPython/core/pylabtools.py:151: UserWarning: Glyph 2453 (\\N{BENGALI LETTER KA}) missing from current font.\n",
            "  fig.canvas.print_figure(bytes_io, **kw)\n",
            "/usr/local/lib/python3.10/dist-packages/IPython/core/pylabtools.py:151: UserWarning: Glyph 2488 (\\N{BENGALI LETTER SA}) missing from current font.\n",
            "  fig.canvas.print_figure(bytes_io, **kw)\n",
            "/usr/local/lib/python3.10/dist-packages/IPython/core/pylabtools.py:151: UserWarning: Glyph 2494 (\\N{BENGALI VOWEL SIGN AA}) missing from current font.\n",
            "  fig.canvas.print_figure(bytes_io, **kw)\n",
            "/usr/local/lib/python3.10/dist-packages/IPython/core/pylabtools.py:151: UserWarning: Glyph 2482 (\\N{BENGALI LETTER LA}) missing from current font.\n",
            "  fig.canvas.print_figure(bytes_io, **kw)\n",
            "/usr/local/lib/python3.10/dist-packages/IPython/core/pylabtools.py:151: UserWarning: Glyph 2480 (\\N{BENGALI LETTER RA}) missing from current font.\n",
            "  fig.canvas.print_figure(bytes_io, **kw)\n"
          ]
        },
        {
          "output_type": "display_data",
          "data": {
            "text/plain": [
              "<Figure size 1600x400 with 1 Axes>"
            ],
            "image/png": "[encoded data removed]"
          },
          "metadata": {}
        }
      ]
    },
    {
      "cell_type": "markdown",
      "source": [
        "## question"
      ],
      "metadata": {
        "id": "DR6K01NUiIV5"
      }
    },
    {
      "cell_type": "code",
      "source": [
        "tokenized_bengali_question_oov =inject_OOVs(tokenized_bengali_question)\n"
      ],
      "metadata": {
        "id": "6HN6su20jRHV"
      },
      "execution_count": 39,
      "outputs": []
    },
    {
      "cell_type": "code",
      "source": [
        "unigram_bengali_question_oov = N_grams(tokenized_bengali_question_oov,1)\n",
        "unigram_bengali_question_oov.fitModel()"
      ],
      "metadata": {
        "id": "JAUmlsXviLli"
      },
      "execution_count": 40,
      "outputs": []
    },
    {
      "cell_type": "code",
      "source": [
        "oov_val_bengali_question = replace_OOVs(unigram_bengali_question_oov.get_vocab(),val_tokenized_bengali_question)\n",
        "\n",
        "perplexity['Bengali','question']= unigram_bengali_question_oov.perplexity(oov_val_bengali_question)"
      ],
      "metadata": {
        "id": "JHu8DUo4iali"
      },
      "execution_count": 41,
      "outputs": []
    },
    {
      "cell_type": "markdown",
      "source": [
        "### plot"
      ],
      "metadata": {
        "id": "TidzAqXKQO1Q"
      }
    },
    {
      "cell_type": "code",
      "source": [
        "plot , probabilities['Bengali','question'] = plot_prob(unigram_bengali_question_oov)"
      ],
      "metadata": {
        "colab": {
          "base_uri": "https://localhost:8080/",
          "height": 753
        },
        "id": "jdqEM0yVQHLm",
        "outputId": "fa77e409-2611-4cce-ec1c-8fcd528bf1a6"
      },
      "execution_count": 42,
      "outputs": [
        {
          "output_type": "stream",
          "name": "stderr",
          "text": [
            "/usr/local/lib/python3.10/dist-packages/IPython/core/events.py:89: UserWarning: Glyph 2496 (\\N{BENGALI VOWEL SIGN II}) missing from current font.\n",
            "  func(*args, **kwargs)\n",
            "/usr/local/lib/python3.10/dist-packages/IPython/core/events.py:89: UserWarning: Glyph 2478 (\\N{BENGALI LETTER MA}) missing from current font.\n",
            "  func(*args, **kwargs)\n",
            "/usr/local/lib/python3.10/dist-packages/IPython/core/events.py:89: UserWarning: Glyph 2527 (\\N{BENGALI LETTER YYA}) missing from current font.\n",
            "  func(*args, **kwargs)\n",
            "/usr/local/lib/python3.10/dist-packages/IPython/core/events.py:89: UserWarning: Glyph 2507 (\\N{BENGALI VOWEL SIGN O}) missing from current font.\n",
            "  func(*args, **kwargs)\n",
            "/usr/local/lib/python3.10/dist-packages/IPython/core/events.py:89: UserWarning: Glyph 2474 (\\N{BENGALI LETTER PA}) missing from current font.\n",
            "  func(*args, **kwargs)\n",
            "/usr/local/lib/python3.10/dist-packages/IPython/core/events.py:89: UserWarning: Glyph 2509 (\\N{BENGALI SIGN VIRAMA}) missing from current font.\n",
            "  func(*args, **kwargs)\n",
            "/usr/local/lib/python3.10/dist-packages/IPython/core/pylabtools.py:151: UserWarning: Glyph 2496 (\\N{BENGALI VOWEL SIGN II}) missing from current font.\n",
            "  fig.canvas.print_figure(bytes_io, **kw)\n",
            "/usr/local/lib/python3.10/dist-packages/IPython/core/pylabtools.py:151: UserWarning: Glyph 2478 (\\N{BENGALI LETTER MA}) missing from current font.\n",
            "  fig.canvas.print_figure(bytes_io, **kw)\n",
            "/usr/local/lib/python3.10/dist-packages/IPython/core/pylabtools.py:151: UserWarning: Glyph 2527 (\\N{BENGALI LETTER YYA}) missing from current font.\n",
            "  fig.canvas.print_figure(bytes_io, **kw)\n",
            "/usr/local/lib/python3.10/dist-packages/IPython/core/pylabtools.py:151: UserWarning: Glyph 2507 (\\N{BENGALI VOWEL SIGN O}) missing from current font.\n",
            "  fig.canvas.print_figure(bytes_io, **kw)\n",
            "/usr/local/lib/python3.10/dist-packages/IPython/core/pylabtools.py:151: UserWarning: Glyph 2474 (\\N{BENGALI LETTER PA}) missing from current font.\n",
            "  fig.canvas.print_figure(bytes_io, **kw)\n",
            "/usr/local/lib/python3.10/dist-packages/IPython/core/pylabtools.py:151: UserWarning: Glyph 2509 (\\N{BENGALI SIGN VIRAMA}) missing from current font.\n",
            "  fig.canvas.print_figure(bytes_io, **kw)\n"
          ]
        },
        {
          "output_type": "display_data",
          "data": {
            "text/plain": [
              "<Figure size 1600x400 with 1 Axes>"
            ],
            "image/png": "[encoded data removed]"
          },
          "metadata": {}
        }
      ]
    },
    {
      "cell_type": "markdown",
      "source": [
        "# **indonesian**"
      ],
      "metadata": {
        "id": "FPNqUdF2fFJv"
      }
    },
    {
      "cell_type": "markdown",
      "source": [
        "## document"
      ],
      "metadata": {
        "id": "VLCXwypnW7RF"
      }
    },
    {
      "cell_type": "code",
      "source": [
        "tokenized_indonesian_document_oov = inject_OOVs(tokenized_indonesian_document)"
      ],
      "metadata": {
        "id": "rRPz_REufFxN"
      },
      "execution_count": 43,
      "outputs": []
    },
    {
      "cell_type": "code",
      "source": [
        "unigram_indonesian_document_oov = N_grams(tokenized_indonesian_document_oov,1)\n",
        "unigram_indonesian_document_oov.fitModel()"
      ],
      "metadata": {
        "id": "8K63zMCEXCON"
      },
      "execution_count": 44,
      "outputs": []
    },
    {
      "cell_type": "code",
      "source": [
        "unigram_indonesian_document_oov = N_grams(tokenized_indonesian_document_oov,1)\n",
        "unigram_indonesian_document_oov.fitModel()"
      ],
      "metadata": {
        "id": "hUgaDiK7XCp3"
      },
      "execution_count": 45,
      "outputs": []
    },
    {
      "cell_type": "code",
      "source": [
        "oov_val_indonesian_document = replace_OOVs(unigram_indonesian_document_oov.get_vocab(),val_tokenized_indonesian_document)\n",
        "perplexity['Indonesian','document']=  unigram_indonesian_document_oov.perplexity(oov_val_indonesian_document)"
      ],
      "metadata": {
        "id": "wHPrk_6LXIUw"
      },
      "execution_count": 46,
      "outputs": []
    },
    {
      "cell_type": "markdown",
      "source": [
        "### plot"
      ],
      "metadata": {
        "id": "Ghkmz-NrQZfJ"
      }
    },
    {
      "cell_type": "code",
      "source": [
        "plot , probabilities['Indonesian','document'] = plot_prob(unigram_indonesian_document_oov)"
      ],
      "metadata": {
        "colab": {
          "base_uri": "https://localhost:8080/",
          "height": 299
        },
        "id": "Bt2_prvdQTHn",
        "outputId": "1f891a46-7392-4487-b08c-8684c9fdb699"
      },
      "execution_count": 47,
      "outputs": [
        {
          "output_type": "display_data",
          "data": {
            "text/plain": [
              "<Figure size 1600x400 with 1 Axes>"
            ],
            "image/png": "[encoded data removed]"
          },
          "metadata": {}
        }
      ]
    },
    {
      "cell_type": "markdown",
      "source": [
        "## question"
      ],
      "metadata": {
        "id": "6PNeWUWOW1sa"
      }
    },
    {
      "cell_type": "code",
      "source": [
        "tokenized_indonesian_question_oov =inject_OOVs(tokenized_indonesian_question)"
      ],
      "metadata": {
        "id": "OSJr4csNWJCG"
      },
      "execution_count": 48,
      "outputs": []
    },
    {
      "cell_type": "code",
      "source": [
        "unigram_indonesian_question_oov = N_grams(tokenized_indonesian_question_oov,1)\n",
        "unigram_indonesian_question_oov.fitModel()"
      ],
      "metadata": {
        "id": "SI76zsw5WRkW"
      },
      "execution_count": 49,
      "outputs": []
    },
    {
      "cell_type": "code",
      "source": [
        "oov_val_indonesian_question = replace_OOVs(unigram_indonesian_question_oov.get_vocab(),val_tokenized_indonesian_question)\n",
        "\n",
        "perplexity['Indonesian','question']= unigram_indonesian_question_oov.perplexity(oov_val_indonesian_question)"
      ],
      "metadata": {
        "id": "u0R_j07gWpFJ"
      },
      "execution_count": 50,
      "outputs": []
    },
    {
      "cell_type": "markdown",
      "source": [
        "### plot"
      ],
      "metadata": {
        "id": "DH9bihkDQdvp"
      }
    },
    {
      "cell_type": "code",
      "source": [
        "plot , probabilities['Indonesian','question'] = plot_prob(unigram_indonesian_question_oov)"
      ],
      "metadata": {
        "colab": {
          "base_uri": "https://localhost:8080/",
          "height": 299
        },
        "id": "Z5qn9LE1QeCt",
        "outputId": "b1bc0912-423e-4691-877d-4f5365d873de"
      },
      "execution_count": 51,
      "outputs": [
        {
          "output_type": "display_data",
          "data": {
            "text/plain": [
              "<Figure size 1600x400 with 1 Axes>"
            ],
            "image/png": "[encoded data removed]"
          },
          "metadata": {}
        }
      ]
    },
    {
      "cell_type": "markdown",
      "source": [
        "# Results"
      ],
      "metadata": {
        "id": "pe-uKj8GXylz"
      }
    },
    {
      "cell_type": "code",
      "source": [
        "# Create an empty DataFrame with languages as columns\n",
        "languages = set(lang for lang, _ in perplexity.keys())\n",
        "df = pd.DataFrame(columns=list(languages))\n",
        "\n",
        "# Fill the DataFrame with data from the  dictionary\n",
        "for (lang, category), value in perplexity.items():\n",
        "    df.loc[category, lang] = value\n",
        "\n",
        "# Fill NaN values with 0\n",
        "df.fillna(0, inplace=True)\n",
        "\n",
        "# Display the DataFrame\n",
        "df\n"
      ],
      "metadata": {
        "colab": {
          "base_uri": "https://localhost:8080/",
          "height": 112
        },
        "id": "fPG8cFmH_8lC",
        "outputId": "23d92304-82fb-46d6-d698-31142fec3e2a"
      },
      "execution_count": 52,
      "outputs": [
        {
          "output_type": "execute_result",
          "data": {
            "text/plain": [
              "             Bengali       Arabic  Indonesian\n",
              "document  1457.91529  4068.173156  1497.28194\n",
              "question  242.260268   359.364842  214.683546"
            ],
            "text/html": [
              "\n",
              "  <div id=\"df-da10e942-a7ca-4a49-bf18-d9ae52dfd115\" class=\"colab-df-container\">\n",
              "    <div>\n",
              "<style scoped>\n",
              "    .dataframe tbody tr th:only-of-type {\n",
              "        vertical-align: middle;\n",
              "    }\n",
              "\n",
              "    .dataframe tbody tr th {\n",
              "        vertical-align: top;\n",
              "    }\n",
              "\n",
              "    .dataframe thead th {\n",
              "        text-align: right;\n",
              "    }\n",
              "</style>\n",
              "<table border=\"1\" class=\"dataframe\">\n",
              "  <thead>\n",
              "    <tr style=\"text-align: right;\">\n",
              "      <th></th>\n",
              "      <th>Bengali</th>\n",
              "      <th>Arabic</th>\n",
              "      <th>Indonesian</th>\n",
              "    </tr>\n",
              "  </thead>\n",
              "  <tbody>\n",
              "    <tr>\n",
              "      <th>document</th>\n",
              "      <td>1457.91529</td>\n",
              "      <td>4068.173156</td>\n",
              "      <td>1497.28194</td>\n",
              "    </tr>\n",
              "    <tr>\n",
              "      <th>question</th>\n",
              "      <td>242.260268</td>\n",
              "      <td>359.364842</td>\n",
              "      <td>214.683546</td>\n",
              "    </tr>\n",
              "  </tbody>\n",
              "</table>\n",
              "</div>\n",
              "    <div class=\"colab-df-buttons\">\n",
              "\n",
              "  <div class=\"colab-df-container\">\n",
              "    <button class=\"colab-df-convert\" onclick=\"convertToInteractive('df-da10e942-a7ca-4a49-bf18-d9ae52dfd115')\"\n",
              "            title=\"Convert this dataframe to an interactive table.\"\n",
              "            style=\"display:none;\">\n",
              "\n",
              "  <svg xmlns=\"http://www.w3.org/2000/svg\" height=\"24px\" viewBox=\"0 -960 960 960\">\n",
              "    <path d=\"M120-120v-720h720v720H120Zm60-500h600v-160H180v160Zm220 220h160v-160H400v160Zm0 220h160v-160H400v160ZM180-400h160v-160H180v160Zm440 0h160v-160H620v160ZM180-180h160v-160H180v160Zm440 0h160v-160H620v160Z\"/>\n",
              "  </svg>\n",
              "    </button>\n",
              "\n",
              "  <style>\n",
              "    .colab-df-container {\n",
              "      display:flex;\n",
              "      gap: 12px;\n",
              "    }\n",
              "\n",
              "    .colab-df-convert {\n",
              "      background-color: #E8F0FE;\n",
              "      border: none;\n",
              "      border-radius: 50%;\n",
              "      cursor: pointer;\n",
              "      display: none;\n",
              "      fill: #1967D2;\n",
              "      height: 32px;\n",
              "      padding: 0 0 0 0;\n",
              "      width: 32px;\n",
              "    }\n",
              "\n",
              "    .colab-df-convert:hover {\n",
              "      background-color: #E2EBFA;\n",
              "      box-shadow: 0px 1px 2px rgba(60, 64, 67, 0.3), 0px 1px 3px 1px rgba(60, 64, 67, 0.15);\n",
              "      fill: #174EA6;\n",
              "    }\n",
              "\n",
              "    .colab-df-buttons div {\n",
              "      margin-bottom: 4px;\n",
              "    }\n",
              "\n",
              "    [theme=dark] .colab-df-convert {\n",
              "      background-color: #3B4455;\n",
              "      fill: #D2E3FC;\n",
              "    }\n",
              "\n",
              "    [theme=dark] .colab-df-convert:hover {\n",
              "      background-color: #434B5C;\n",
              "      box-shadow: 0px 1px 3px 1px rgba(0, 0, 0, 0.15);\n",
              "      filter: drop-shadow(0px 1px 2px rgba(0, 0, 0, 0.3));\n",
              "      fill: #FFFFFF;\n",
              "    }\n",
              "  </style>\n",
              "\n",
              "    <script>\n",
              "      const buttonEl =\n",
              "        document.querySelector('#df-da10e942-a7ca-4a49-bf18-d9ae52dfd115 button.colab-df-convert');\n",
              "      buttonEl.style.display =\n",
              "        google.colab.kernel.accessAllowed ? 'block' : 'none';\n",
              "\n",
              "      async function convertToInteractive(key) {\n",
              "        const element = document.querySelector('#df-da10e942-a7ca-4a49-bf18-d9ae52dfd115');\n",
              "        const dataTable =\n",
              "          await google.colab.kernel.invokeFunction('convertToInteractive',\n",
              "                                                    [key], {});\n",
              "        if (!dataTable) return;\n",
              "\n",
              "        const docLinkHtml = 'Like what you see? Visit the ' +\n",
              "          '<a target=\"_blank\" href=https://colab.research.google.com/notebooks/data_table.ipynb>data table notebook</a>'\n",
              "          + ' to learn more about interactive tables.';\n",
              "        element.innerHTML = '';\n",
              "        dataTable['output_type'] = 'display_data';\n",
              "        await google.colab.output.renderOutput(dataTable, element);\n",
              "        const docLink = document.createElement('div');\n",
              "        docLink.innerHTML = docLinkHtml;\n",
              "        element.appendChild(docLink);\n",
              "      }\n",
              "    </script>\n",
              "  </div>\n",
              "\n",
              "\n",
              "<div id=\"df-779a78a0-5379-4829-b640-67ae2c90aa98\">\n",
              "  <button class=\"colab-df-quickchart\" onclick=\"quickchart('df-779a78a0-5379-4829-b640-67ae2c90aa98')\"\n",
              "            title=\"Suggest charts.\"\n",
              "            style=\"display:none;\">\n",
              "\n",
              "<svg xmlns=\"http://www.w3.org/2000/svg\" height=\"24px\"viewBox=\"0 0 24 24\"\n",
              "     width=\"24px\">\n",
              "    <g>\n",
              "        <path d=\"M19 3H5c-1.1 0-2 .9-2 2v14c0 1.1.9 2 2 2h14c1.1 0 2-.9 2-2V5c0-1.1-.9-2-2-2zM9 17H7v-7h2v7zm4 0h-2V7h2v10zm4 0h-2v-4h2v4z\"/>\n",
              "    </g>\n",
              "</svg>\n",
              "  </button>\n",
              "\n",
              "<style>\n",
              "  .colab-df-quickchart {\n",
              "      --bg-color: #E8F0FE;\n",
              "      --fill-color: #1967D2;\n",
              "      --hover-bg-color: #E2EBFA;\n",
              "      --hover-fill-color: #174EA6;\n",
              "      --disabled-fill-color: #AAA;\n",
              "      --disabled-bg-color: #DDD;\n",
              "  }\n",
              "\n",
              "  [theme=dark] .colab-df-quickchart {\n",
              "      --bg-color: #3B4455;\n",
              "      --fill-color: #D2E3FC;\n",
              "      --hover-bg-color: #434B5C;\n",
              "      --hover-fill-color: #FFFFFF;\n",
              "      --disabled-bg-color: #3B4455;\n",
              "      --disabled-fill-color: #666;\n",
              "  }\n",
              "\n",
              "  .colab-df-quickchart {\n",
              "    background-color: var(--bg-color);\n",
              "    border: none;\n",
              "    border-radius: 50%;\n",
              "    cursor: pointer;\n",
              "    display: none;\n",
              "    fill: var(--fill-color);\n",
              "    height: 32px;\n",
              "    padding: 0;\n",
              "    width: 32px;\n",
              "  }\n",
              "\n",
              "  .colab-df-quickchart:hover {\n",
              "    background-color: var(--hover-bg-color);\n",
              "    box-shadow: 0 1px 2px rgba(60, 64, 67, 0.3), 0 1px 3px 1px rgba(60, 64, 67, 0.15);\n",
              "    fill: var(--button-hover-fill-color);\n",
              "  }\n",
              "\n",
              "  .colab-df-quickchart-complete:disabled,\n",
              "  .colab-df-quickchart-complete:disabled:hover {\n",
              "    background-color: var(--disabled-bg-color);\n",
              "    fill: var(--disabled-fill-color);\n",
              "    box-shadow: none;\n",
              "  }\n",
              "\n",
              "  .colab-df-spinner {\n",
              "    border: 2px solid var(--fill-color);\n",
              "    border-color: transparent;\n",
              "    border-bottom-color: var(--fill-color);\n",
              "    animation:\n",
              "      spin 1s steps(1) infinite;\n",
              "  }\n",
              "\n",
              "  @keyframes spin {\n",
              "    0% {\n",
              "      border-color: transparent;\n",
              "      border-bottom-color: var(--fill-color);\n",
              "      border-left-color: var(--fill-color);\n",
              "    }\n",
              "    20% {\n",
              "      border-color: transparent;\n",
              "      border-left-color: var(--fill-color);\n",
              "      border-top-color: var(--fill-color);\n",
              "    }\n",
              "    30% {\n",
              "      border-color: transparent;\n",
              "      border-left-color: var(--fill-color);\n",
              "      border-top-color: var(--fill-color);\n",
              "      border-right-color: var(--fill-color);\n",
              "    }\n",
              "    40% {\n",
              "      border-color: transparent;\n",
              "      border-right-color: var(--fill-color);\n",
              "      border-top-color: var(--fill-color);\n",
              "    }\n",
              "    60% {\n",
              "      border-color: transparent;\n",
              "      border-right-color: var(--fill-color);\n",
              "    }\n",
              "    80% {\n",
              "      border-color: transparent;\n",
              "      border-right-color: var(--fill-color);\n",
              "      border-bottom-color: var(--fill-color);\n",
              "    }\n",
              "    90% {\n",
              "      border-color: transparent;\n",
              "      border-bottom-color: var(--fill-color);\n",
              "    }\n",
              "  }\n",
              "</style>\n",
              "\n",
              "  <script>\n",
              "    async function quickchart(key) {\n",
              "      const quickchartButtonEl =\n",
              "        document.querySelector('#' + key + ' button');\n",
              "      quickchartButtonEl.disabled = true;  // To prevent multiple clicks.\n",
              "      quickchartButtonEl.classList.add('colab-df-spinner');\n",
              "      try {\n",
              "        const charts = await google.colab.kernel.invokeFunction(\n",
              "            'suggestCharts', [key], {});\n",
              "      } catch (error) {\n",
              "        console.error('Error during call to suggestCharts:', error);\n",
              "      }\n",
              "      quickchartButtonEl.classList.remove('colab-df-spinner');\n",
              "      quickchartButtonEl.classList.add('colab-df-quickchart-complete');\n",
              "    }\n",
              "    (() => {\n",
              "      let quickchartButtonEl =\n",
              "        document.querySelector('#df-779a78a0-5379-4829-b640-67ae2c90aa98 button');\n",
              "      quickchartButtonEl.style.display =\n",
              "        google.colab.kernel.accessAllowed ? 'block' : 'none';\n",
              "    })();\n",
              "  </script>\n",
              "</div>\n",
              "    </div>\n",
              "  </div>\n"
            ]
          },
          "metadata": {},
          "execution_count": 52
        }
      ]
    },
    {
      "cell_type": "code",
      "source": [
        "probabilities"
      ],
      "metadata": {
        "colab": {
          "base_uri": "https://localhost:8080/"
        },
        "id": "Q-kYZHoxSAwd",
        "outputId": "753a4433-ed77-4c50-8c0a-5685bffa0e9f"
      },
      "execution_count": 53,
      "outputs": [
        {
          "output_type": "execute_result",
          "data": {
            "text/plain": [
              "{('Arabic', 'question'): [('[OOV]', 0.10253675917097406),\n",
              "  ('ما', 0.04673307572640136),\n",
              "  ('متى', 0.04471947608772018),\n",
              "  ('هو', 0.04239850454157675),\n",
              "  ('من', 0.03956942841371004),\n",
              "  ('في', 0.026038791589300947),\n",
              "  ('هي', 0.024407838610929895),\n",
              "  ('أين', 0.016698449340091334),\n",
              "  ('كم', 0.01198750439102725),\n",
              "  ('ولد', 0.0098045365584383)],\n",
              " ('Bengali', 'document'): [('[OOV]', 0.1389085881338551),\n",
              "  ('ও', 0.013249797196981678),\n",
              "  ('এবং', 0.013012555930266373),\n",
              "  ('এই', 0.008545787564476054),\n",
              "  ('হয়।', 0.007436110671775432),\n",
              "  ('তিনি', 0.007425906746325311),\n",
              "  ('থেকে', 0.00632898476043734),\n",
              "  ('সালে', 0.006030519941021311),\n",
              "  ('করেন।', 0.006005010127396009),\n",
              "  ('করে', 0.005974398351045647)],\n",
              " ('Bengali', 'question'): [('[OOV]', 0.11135234809505398),\n",
              "  ('কী', 0.027927311661660174),\n",
              "  ('নাম', 0.024863932427207566),\n",
              "  ('কত', 0.023822978318412992),\n",
              "  ('হয়', 0.023763495226481874),\n",
              "  ('কোন', 0.02269279957172174),\n",
              "  ('প্রথম', 0.02007554352675252),\n",
              "  ('কে', 0.019361746423579098),\n",
              "  ('কবে', 0.018320792314784524),\n",
              "  ('সালে', 0.01549534544805639)],\n",
              " ('Indonesian', 'document'): [('[OOV]', 0.07742175518182753),\n",
              "  ('yang', 0.02920198779282739),\n",
              "  ('dan', 0.02864929142411431),\n",
              "  ('di', 0.020978535761369155),\n",
              "  ('pada', 0.013186952537498416),\n",
              "  ('dari', 0.012036099925589364),\n",
              "  ('dengan', 0.01132070505872698),\n",
              "  ('ini', 0.008694799151096659),\n",
              "  ('adalah', 0.008560812152620762),\n",
              "  ('dalam', 0.00811698022016935)],\n",
              " ('Indonesian', 'question'): [('[OOV]', 0.08886920075647863),\n",
              "  ('apakah', 0.03417784062835432),\n",
              "  ('kapan', 0.03138364029782086),\n",
              "  ('yang', 0.031025846353057433),\n",
              "  ('apa', 0.030208031622169593),\n",
              "  ('pertama', 0.01926975959654473),\n",
              "  ('siapakah', 0.018008961886425978),\n",
              "  ('berapakah', 0.016918542245242193),\n",
              "  ('berapa', 0.015896273831632394),\n",
              "  ('di', 0.015623668921336445)]}"
            ]
          },
          "metadata": {},
          "execution_count": 53
        }
      ]
    },
    {
      "cell_type": "code",
      "source": [
        "# Create a DataFrame\n",
        "df = pd.DataFrame.from_dict(probabilities, orient='columns')\n",
        "\n",
        "# Rename the columns for clarity\n",
        "df.columns = pd.MultiIndex.from_tuples(df.columns, names=['Language', 'Category'])\n",
        "\n",
        "# Display the DataFrame\n",
        "print(df)\n",
        "# Display the DataFrame\n",
        "df\n",
        "\n",
        "probabilities"
      ],
      "metadata": {
        "colab": {
          "base_uri": "https://localhost:8080/"
        },
        "id": "RhCVGx_8Q3S8",
        "outputId": "82f0d349-a339-46ed-ce09-93d9d0315ee4"
      },
      "execution_count": 54,
      "outputs": [
        {
          "output_type": "stream",
          "name": "stdout",
          "text": [
            "Language                        Arabic                        Bengali  \\\n",
            "Category                      question                       document   \n",
            "0         ([OOV], 0.10253675917097406)    ([OOV], 0.1389085881338551)   \n",
            "1            (ما, 0.04673307572640136)      (ও, 0.013249797196981678)   \n",
            "2           (متى, 0.04471947608772018)    (এবং, 0.013012555930266373)   \n",
            "3            (هو, 0.04239850454157675)     (এই, 0.008545787564476054)   \n",
            "4            (من, 0.03956942841371004)   (হয়।, 0.007436110671775432)   \n",
            "5           (في, 0.026038791589300947)   (তিনি, 0.007425906746325311)   \n",
            "6           (هي, 0.024407838610929895)    (থেকে, 0.00632898476043734)   \n",
            "7          (أين, 0.016698449340091334)   (সালে, 0.006030519941021311)   \n",
            "8            (كم, 0.01198750439102725)  (করেন।, 0.006005010127396009)   \n",
            "9            (ولد, 0.0098045365584383)    (করে, 0.005974398351045647)   \n",
            "\n",
            "Language                                                    Indonesian  \\\n",
            "Category                      question                        document   \n",
            "0         ([OOV], 0.11135234809505398)    ([OOV], 0.07742175518182753)   \n",
            "1           (কী, 0.027927311661660174)     (yang, 0.02920198779282739)   \n",
            "2          (নাম, 0.024863932427207566)      (dan, 0.02864929142411431)   \n",
            "3           (কত, 0.023822978318412992)      (di, 0.020978535761369155)   \n",
            "4           (হয়, 0.023763495226481874)    (pada, 0.013186952537498416)   \n",
            "5           (কোন, 0.02269279957172174)    (dari, 0.012036099925589364)   \n",
            "6         (প্রথম, 0.02007554352675252)   (dengan, 0.01132070505872698)   \n",
            "7           (কে, 0.019361746423579098)     (ini, 0.008694799151096659)   \n",
            "8          (কবে, 0.018320792314784524)  (adalah, 0.008560812152620762)   \n",
            "9          (সালে, 0.01549534544805639)    (dalam, 0.00811698022016935)   \n",
            "\n",
            "Language                                     \n",
            "Category                           question  \n",
            "0              ([OOV], 0.08886920075647863)  \n",
            "1             (apakah, 0.03417784062835432)  \n",
            "2              (kapan, 0.03138364029782086)  \n",
            "3              (yang, 0.031025846353057433)  \n",
            "4               (apa, 0.030208031622169593)  \n",
            "5            (pertama, 0.01926975959654473)  \n",
            "6          (siapakah, 0.018008961886425978)  \n",
            "7         (berapakah, 0.016918542245242193)  \n",
            "8            (berapa, 0.015896273831632394)  \n",
            "9                (di, 0.015623668921336445)  \n"
          ]
        },
        {
          "output_type": "execute_result",
          "data": {
            "text/plain": [
              "{('Arabic', 'question'): [('[OOV]', 0.10253675917097406),\n",
              "  ('ما', 0.04673307572640136),\n",
              "  ('متى', 0.04471947608772018),\n",
              "  ('هو', 0.04239850454157675),\n",
              "  ('من', 0.03956942841371004),\n",
              "  ('في', 0.026038791589300947),\n",
              "  ('هي', 0.024407838610929895),\n",
              "  ('أين', 0.016698449340091334),\n",
              "  ('كم', 0.01198750439102725),\n",
              "  ('ولد', 0.0098045365584383)],\n",
              " ('Bengali', 'document'): [('[OOV]', 0.1389085881338551),\n",
              "  ('ও', 0.013249797196981678),\n",
              "  ('এবং', 0.013012555930266373),\n",
              "  ('এই', 0.008545787564476054),\n",
              "  ('হয়।', 0.007436110671775432),\n",
              "  ('তিনি', 0.007425906746325311),\n",
              "  ('থেকে', 0.00632898476043734),\n",
              "  ('সালে', 0.006030519941021311),\n",
              "  ('করেন।', 0.006005010127396009),\n",
              "  ('করে', 0.005974398351045647)],\n",
              " ('Bengali', 'question'): [('[OOV]', 0.11135234809505398),\n",
              "  ('কী', 0.027927311661660174),\n",
              "  ('নাম', 0.024863932427207566),\n",
              "  ('কত', 0.023822978318412992),\n",
              "  ('হয়', 0.023763495226481874),\n",
              "  ('কোন', 0.02269279957172174),\n",
              "  ('প্রথম', 0.02007554352675252),\n",
              "  ('কে', 0.019361746423579098),\n",
              "  ('কবে', 0.018320792314784524),\n",
              "  ('সালে', 0.01549534544805639)],\n",
              " ('Indonesian', 'document'): [('[OOV]', 0.07742175518182753),\n",
              "  ('yang', 0.02920198779282739),\n",
              "  ('dan', 0.02864929142411431),\n",
              "  ('di', 0.020978535761369155),\n",
              "  ('pada', 0.013186952537498416),\n",
              "  ('dari', 0.012036099925589364),\n",
              "  ('dengan', 0.01132070505872698),\n",
              "  ('ini', 0.008694799151096659),\n",
              "  ('adalah', 0.008560812152620762),\n",
              "  ('dalam', 0.00811698022016935)],\n",
              " ('Indonesian', 'question'): [('[OOV]', 0.08886920075647863),\n",
              "  ('apakah', 0.03417784062835432),\n",
              "  ('kapan', 0.03138364029782086),\n",
              "  ('yang', 0.031025846353057433),\n",
              "  ('apa', 0.030208031622169593),\n",
              "  ('pertama', 0.01926975959654473),\n",
              "  ('siapakah', 0.018008961886425978),\n",
              "  ('berapakah', 0.016918542245242193),\n",
              "  ('berapa', 0.015896273831632394),\n",
              "  ('di', 0.015623668921336445)]}"
            ]
          },
          "metadata": {},
          "execution_count": 54
        }
      ]
    }
  ]
}